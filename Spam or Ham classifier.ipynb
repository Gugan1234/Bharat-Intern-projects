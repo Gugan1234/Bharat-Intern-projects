{
  "metadata": {
    "kernelspec": {
      "name": "python",
      "display_name": "Python (Pyodide)",
      "language": "python"
    },
    "language_info": {
      "codemirror_mode": {
        "name": "python",
        "version": 3
      },
      "file_extension": ".py",
      "mimetype": "text/x-python",
      "name": "python",
      "nbconvert_exporter": "python",
      "pygments_lexer": "ipython3",
      "version": "3.8"
    }
  },
  "nbformat_minor": 5,
  "nbformat": 4,
  "cells": [
    {
      "id": "1ca4e048-783c-48c1-b4f6-fd5fd39b00ef",
      "cell_type": "code",
      "source": "import numpy as np\nimport pandas as pd\nfrom sklearn.model_selection import train_test_split\nfrom sklearn.feature_extraction.text import TfidfVectorizer\nfrom sklearn.linear_model import LogisticRegression\nfrom sklearn.metrics import accuracy_score\n",
      "metadata": {
        "trusted": true
      },
      "outputs": [],
      "execution_count": 1
    },
    {
      "id": "48e09db2-61b3-4c43-84df-c4d9cb02f03e",
      "cell_type": "code",
      "source": "df = pd.read_csv(\"mail_data.csv\")",
      "metadata": {
        "trusted": true
      },
      "outputs": [],
      "execution_count": 6
    },
    {
      "id": "e9e34e98-71a1-49bd-b2d2-403107b107c1",
      "cell_type": "code",
      "source": "print(df)",
      "metadata": {
        "trusted": true
      },
      "outputs": [
        {
          "name": "stdout",
          "text": "     Category                                            Message\n0         ham  Go until jurong point, crazy.. Available only ...\n1         ham                      Ok lar... Joking wif u oni...\n2        spam  Free entry in 2 a wkly comp to win FA Cup fina...\n3         ham  U dun say so early hor... U c already then say...\n4         ham  Nah I don't think he goes to usf, he lives aro...\n...       ...                                                ...\n5567     spam  This is the 2nd time we have tried 2 contact u...\n5568      ham               Will ü b going to esplanade fr home?\n5569      ham  Pity, * was in mood for that. So...any other s...\n5570      ham  The guy did some bitching but I acted like i'd...\n5571      ham                         Rofl. Its true to its name\n\n[5572 rows x 2 columns]\n",
          "output_type": "stream"
        }
      ],
      "execution_count": 7
    },
    {
      "id": "7f9f788a-61d8-434d-98a4-e9e35b706e15",
      "cell_type": "code",
      "source": "data = df.where(pd.notnull(df), '')",
      "metadata": {
        "trusted": true
      },
      "outputs": [],
      "execution_count": 8
    },
    {
      "id": "00bc1008-5979-48a9-b3dd-17b1f9e25a64",
      "cell_type": "code",
      "source": "data.head()",
      "metadata": {
        "trusted": true
      },
      "outputs": [
        {
          "execution_count": 9,
          "output_type": "execute_result",
          "data": {
            "text/plain": "  Category                                            Message\n0      ham  Go until jurong point, crazy.. Available only ...\n1      ham                      Ok lar... Joking wif u oni...\n2     spam  Free entry in 2 a wkly comp to win FA Cup fina...\n3      ham  U dun say so early hor... U c already then say...\n4      ham  Nah I don't think he goes to usf, he lives aro...",
            "text/html": "<div>\n<style scoped>\n    .dataframe tbody tr th:only-of-type {\n        vertical-align: middle;\n    }\n\n    .dataframe tbody tr th {\n        vertical-align: top;\n    }\n\n    .dataframe thead th {\n        text-align: right;\n    }\n</style>\n<table border=\"1\" class=\"dataframe\">\n  <thead>\n    <tr style=\"text-align: right;\">\n      <th></th>\n      <th>Category</th>\n      <th>Message</th>\n    </tr>\n  </thead>\n  <tbody>\n    <tr>\n      <th>0</th>\n      <td>ham</td>\n      <td>Go until jurong point, crazy.. Available only ...</td>\n    </tr>\n    <tr>\n      <th>1</th>\n      <td>ham</td>\n      <td>Ok lar... Joking wif u oni...</td>\n    </tr>\n    <tr>\n      <th>2</th>\n      <td>spam</td>\n      <td>Free entry in 2 a wkly comp to win FA Cup fina...</td>\n    </tr>\n    <tr>\n      <th>3</th>\n      <td>ham</td>\n      <td>U dun say so early hor... U c already then say...</td>\n    </tr>\n    <tr>\n      <th>4</th>\n      <td>ham</td>\n      <td>Nah I don't think he goes to usf, he lives aro...</td>\n    </tr>\n  </tbody>\n</table>\n</div>"
          },
          "metadata": {}
        }
      ],
      "execution_count": 9
    },
    {
      "id": "460ff371-67f5-4953-b76b-4f3bc0ef9171",
      "cell_type": "code",
      "source": "data.info()",
      "metadata": {
        "trusted": true
      },
      "outputs": [
        {
          "name": "stdout",
          "text": "<class 'pandas.core.frame.DataFrame'>\nRangeIndex: 5572 entries, 0 to 5571\nData columns (total 2 columns):\n #   Column    Non-Null Count  Dtype \n---  ------    --------------  ----- \n 0   Category  5572 non-null   object\n 1   Message   5572 non-null   object\ndtypes: object(2)\nmemory usage: 43.6+ KB\n",
          "output_type": "stream"
        }
      ],
      "execution_count": 10
    },
    {
      "id": "f0eabc29-dc71-4fd7-9823-974a9a54e0df",
      "cell_type": "code",
      "source": "data.shape",
      "metadata": {
        "trusted": true
      },
      "outputs": [
        {
          "execution_count": 11,
          "output_type": "execute_result",
          "data": {
            "text/plain": "(5572, 2)"
          },
          "metadata": {}
        }
      ],
      "execution_count": 11
    },
    {
      "id": "93628231-b614-4638-bc57-6c6dd8a02b0f",
      "cell_type": "code",
      "source": "data.loc[data['Category'] == 'spam', 'Category',] = 0\ndata.loc[data['Category'] == 'ham', 'Category',] = 1",
      "metadata": {
        "trusted": true
      },
      "outputs": [],
      "execution_count": 12
    },
    {
      "id": "87bcd164-6a7e-4cff-bed2-b4053d56efea",
      "cell_type": "code",
      "source": "x = data['Message']\n\ny = data['Category']",
      "metadata": {
        "trusted": true
      },
      "outputs": [],
      "execution_count": 13
    },
    {
      "id": "6e7bb411-0ed9-4417-98d4-50f8692a2efb",
      "cell_type": "code",
      "source": "print(x)",
      "metadata": {
        "trusted": true
      },
      "outputs": [
        {
          "name": "stdout",
          "text": "0       Go until jurong point, crazy.. Available only ...\n1                           Ok lar... Joking wif u oni...\n2       Free entry in 2 a wkly comp to win FA Cup fina...\n3       U dun say so early hor... U c already then say...\n4       Nah I don't think he goes to usf, he lives aro...\n                              ...                        \n5567    This is the 2nd time we have tried 2 contact u...\n5568                 Will ü b going to esplanade fr home?\n5569    Pity, * was in mood for that. So...any other s...\n5570    The guy did some bitching but I acted like i'd...\n5571                           Rofl. Its true to its name\nName: Message, Length: 5572, dtype: object\n",
          "output_type": "stream"
        }
      ],
      "execution_count": 14
    },
    {
      "id": "9e2e2cd7-3d0b-40aa-b8d8-4f018be5ff02",
      "cell_type": "code",
      "source": "print(y)",
      "metadata": {
        "trusted": true
      },
      "outputs": [
        {
          "name": "stdout",
          "text": "0       1\n1       1\n2       0\n3       1\n4       1\n       ..\n5567    0\n5568    1\n5569    1\n5570    1\n5571    1\nName: Category, Length: 5572, dtype: object\n",
          "output_type": "stream"
        }
      ],
      "execution_count": 15
    },
    {
      "id": "48ab153e-cb66-4496-a52c-41cea14bd883",
      "cell_type": "code",
      "source": "x_train, x_test, y_train, y_test = train_test_split(x,y,test_size=0.2, random_state=3)",
      "metadata": {
        "trusted": true
      },
      "outputs": [],
      "execution_count": 19
    },
    {
      "id": "3670e67c-b0b1-41b5-b86b-6c535ce71381",
      "cell_type": "code",
      "source": "print(x.shape)\nprint(x_train.shape)\nprint(x_test.shape)",
      "metadata": {
        "trusted": true
      },
      "outputs": [
        {
          "name": "stdout",
          "text": "(5572,)\n(4457,)\n(1115,)\n",
          "output_type": "stream"
        }
      ],
      "execution_count": 20
    },
    {
      "id": "d9da06a6-3ba5-465f-8b41-1e065df958ea",
      "cell_type": "code",
      "source": "print(y.shape)\nprint(y_train.shape)\nprint(y_test.shape)",
      "metadata": {
        "trusted": true
      },
      "outputs": [
        {
          "name": "stdout",
          "text": "(5572,)\n(4457,)\n(1115,)\n",
          "output_type": "stream"
        }
      ],
      "execution_count": 21
    },
    {
      "id": "86d464fc-dd1c-4581-a5cd-98e6f76a5a6a",
      "cell_type": "code",
      "source": "feature_extraction = TfidfVectorizer(min_df = 1,stop_words = 'english', lowercase=True)\n\nx_train_features = feature_extraction.fit_transform(x_train)\nx_test_features = feature_extraction.transform(x_test)\n\ny_train = y_train.astype('int')\ny_test = y_test.astype('int')",
      "metadata": {
        "trusted": true
      },
      "outputs": [],
      "execution_count": 33
    },
    {
      "id": "4338b7a9-1a68-4717-a518-2a9f64283330",
      "cell_type": "code",
      "source": "print(x_train)",
      "metadata": {
        "trusted": true
      },
      "outputs": [
        {
          "name": "stdout",
          "text": "3075                  Don know. I did't msg him recently.\n1787    Do you know why god created gap between your f...\n1614                         Thnx dude. u guys out 2nite?\n4304                                      Yup i'm free...\n3266    44 7732584351, Do you want a New Nokia 3510i c...\n                              ...                        \n789     5 Free Top Polyphonic Tones call 087018728737,...\n968     What do u want when i come back?.a beautiful n...\n1667    Guess who spent all last night phasing in and ...\n3321    Eh sorry leh... I din c ur msg. Not sad alread...\n1688    Free Top ringtone -sub to weekly ringtone-get ...\nName: Message, Length: 4457, dtype: object\n",
          "output_type": "stream"
        }
      ],
      "execution_count": 34
    },
    {
      "id": "b7f225eb-4666-4b0f-a6a5-d32ea7bc3f68",
      "cell_type": "code",
      "source": "print(x_train_features)",
      "metadata": {
        "trusted": true
      },
      "outputs": [
        {
          "name": "stdout",
          "text": "  (0, 5413)\t0.6198254967574347\n  (0, 4456)\t0.4168658090846482\n  (0, 2224)\t0.413103377943378\n  (0, 3811)\t0.34780165336891333\n  (0, 2329)\t0.38783870336935383\n  (1, 4080)\t0.18880584110891163\n  (1, 3185)\t0.29694482957694585\n  (1, 3325)\t0.31610586766078863\n  (1, 2957)\t0.3398297002864083\n  (1, 2746)\t0.3398297002864083\n  (1, 918)\t0.22871581159877646\n  (1, 1839)\t0.2784903590561455\n  (1, 2758)\t0.3226407885943799\n  (1, 2956)\t0.33036995955537024\n  (1, 1991)\t0.33036995955537024\n  (1, 3046)\t0.2503712792613518\n  (1, 3811)\t0.17419952275504033\n  (2, 407)\t0.509272536051008\n  (2, 3156)\t0.4107239318312698\n  (2, 2404)\t0.45287711070606745\n  (2, 6601)\t0.6056811524587518\n  (3, 2870)\t0.5864269879324768\n  (3, 7414)\t0.8100020912469564\n  (4, 50)\t0.23633754072626942\n  (4, 5497)\t0.15743785051118356\n  :\t:\n  (4454, 4602)\t0.2669765732445391\n  (4454, 3142)\t0.32014451677763156\n  (4455, 2247)\t0.37052851863170466\n  (4455, 2469)\t0.35441545511837946\n  (4455, 5646)\t0.33545678464631296\n  (4455, 6810)\t0.29731757715898277\n  (4455, 6091)\t0.23103841516927642\n  (4455, 7113)\t0.30536590342067704\n  (4455, 3872)\t0.3108911491788658\n  (4455, 4715)\t0.30714144758811196\n  (4455, 6916)\t0.19636985317119715\n  (4455, 3922)\t0.31287563163368587\n  (4455, 4456)\t0.24920025316220423\n  (4456, 141)\t0.292943737785358\n  (4456, 647)\t0.30133182431707617\n  (4456, 6311)\t0.30133182431707617\n  (4456, 5569)\t0.4619395404299172\n  (4456, 6028)\t0.21034888000987115\n  (4456, 7154)\t0.24083218452280053\n  (4456, 7150)\t0.3677554681447669\n  (4456, 6249)\t0.17573831794959716\n  (4456, 6307)\t0.2752760476857975\n  (4456, 334)\t0.2220077711654938\n  (4456, 5778)\t0.16243064490100795\n  (4456, 2870)\t0.31523196273113385\n",
          "output_type": "stream"
        }
      ],
      "execution_count": 35
    },
    {
      "id": "6dcbcacb-66d7-4eaa-b208-8e362e3027a9",
      "cell_type": "code",
      "source": "model = LogisticRegression()",
      "metadata": {
        "trusted": true
      },
      "outputs": [],
      "execution_count": 37
    },
    {
      "id": "b348c942-eb64-4c83-b4a9-ad58b6466594",
      "cell_type": "code",
      "source": "model.fit(x_train_features, y_train)",
      "metadata": {
        "trusted": true
      },
      "outputs": [
        {
          "execution_count": 38,
          "output_type": "execute_result",
          "data": {
            "text/plain": "LogisticRegression()",
            "text/html": "<style>#sk-container-id-1 {color: black;}#sk-container-id-1 pre{padding: 0;}#sk-container-id-1 div.sk-toggleable {background-color: white;}#sk-container-id-1 label.sk-toggleable__label {cursor: pointer;display: block;width: 100%;margin-bottom: 0;padding: 0.3em;box-sizing: border-box;text-align: center;}#sk-container-id-1 label.sk-toggleable__label-arrow:before {content: \"▸\";float: left;margin-right: 0.25em;color: #696969;}#sk-container-id-1 label.sk-toggleable__label-arrow:hover:before {color: black;}#sk-container-id-1 div.sk-estimator:hover label.sk-toggleable__label-arrow:before {color: black;}#sk-container-id-1 div.sk-toggleable__content {max-height: 0;max-width: 0;overflow: hidden;text-align: left;background-color: #f0f8ff;}#sk-container-id-1 div.sk-toggleable__content pre {margin: 0.2em;color: black;border-radius: 0.25em;background-color: #f0f8ff;}#sk-container-id-1 input.sk-toggleable__control:checked~div.sk-toggleable__content {max-height: 200px;max-width: 100%;overflow: auto;}#sk-container-id-1 input.sk-toggleable__control:checked~label.sk-toggleable__label-arrow:before {content: \"▾\";}#sk-container-id-1 div.sk-estimator input.sk-toggleable__control:checked~label.sk-toggleable__label {background-color: #d4ebff;}#sk-container-id-1 div.sk-label input.sk-toggleable__control:checked~label.sk-toggleable__label {background-color: #d4ebff;}#sk-container-id-1 input.sk-hidden--visually {border: 0;clip: rect(1px 1px 1px 1px);clip: rect(1px, 1px, 1px, 1px);height: 1px;margin: -1px;overflow: hidden;padding: 0;position: absolute;width: 1px;}#sk-container-id-1 div.sk-estimator {font-family: monospace;background-color: #f0f8ff;border: 1px dotted black;border-radius: 0.25em;box-sizing: border-box;margin-bottom: 0.5em;}#sk-container-id-1 div.sk-estimator:hover {background-color: #d4ebff;}#sk-container-id-1 div.sk-parallel-item::after {content: \"\";width: 100%;border-bottom: 1px solid gray;flex-grow: 1;}#sk-container-id-1 div.sk-label:hover label.sk-toggleable__label {background-color: #d4ebff;}#sk-container-id-1 div.sk-serial::before {content: \"\";position: absolute;border-left: 1px solid gray;box-sizing: border-box;top: 0;bottom: 0;left: 50%;z-index: 0;}#sk-container-id-1 div.sk-serial {display: flex;flex-direction: column;align-items: center;background-color: white;padding-right: 0.2em;padding-left: 0.2em;position: relative;}#sk-container-id-1 div.sk-item {position: relative;z-index: 1;}#sk-container-id-1 div.sk-parallel {display: flex;align-items: stretch;justify-content: center;background-color: white;position: relative;}#sk-container-id-1 div.sk-item::before, #sk-container-id-1 div.sk-parallel-item::before {content: \"\";position: absolute;border-left: 1px solid gray;box-sizing: border-box;top: 0;bottom: 0;left: 50%;z-index: -1;}#sk-container-id-1 div.sk-parallel-item {display: flex;flex-direction: column;z-index: 1;position: relative;background-color: white;}#sk-container-id-1 div.sk-parallel-item:first-child::after {align-self: flex-end;width: 50%;}#sk-container-id-1 div.sk-parallel-item:last-child::after {align-self: flex-start;width: 50%;}#sk-container-id-1 div.sk-parallel-item:only-child::after {width: 0;}#sk-container-id-1 div.sk-dashed-wrapped {border: 1px dashed gray;margin: 0 0.4em 0.5em 0.4em;box-sizing: border-box;padding-bottom: 0.4em;background-color: white;}#sk-container-id-1 div.sk-label label {font-family: monospace;font-weight: bold;display: inline-block;line-height: 1.2em;}#sk-container-id-1 div.sk-label-container {text-align: center;}#sk-container-id-1 div.sk-container {/* jupyter's `normalize.less` sets `[hidden] { display: none; }` but bootstrap.min.css set `[hidden] { display: none !important; }` so we also need the `!important` here to be able to override the default hidden behavior on the sphinx rendered scikit-learn.org. See: https://github.com/scikit-learn/scikit-learn/issues/21755 */display: inline-block !important;position: relative;}#sk-container-id-1 div.sk-text-repr-fallback {display: none;}</style><div id=\"sk-container-id-1\" class=\"sk-top-container\"><div class=\"sk-text-repr-fallback\"><pre>LogisticRegression()</pre><b>In a Jupyter environment, please rerun this cell to show the HTML representation or trust the notebook. <br />On GitHub, the HTML representation is unable to render, please try loading this page with nbviewer.org.</b></div><div class=\"sk-container\" hidden><div class=\"sk-item\"><div class=\"sk-estimator sk-toggleable\"><input class=\"sk-toggleable__control sk-hidden--visually\" id=\"sk-estimator-id-1\" type=\"checkbox\" checked><label for=\"sk-estimator-id-1\" class=\"sk-toggleable__label sk-toggleable__label-arrow\">LogisticRegression</label><div class=\"sk-toggleable__content\"><pre>LogisticRegression()</pre></div></div></div></div></div>"
          },
          "metadata": {}
        }
      ],
      "execution_count": 38
    },
    {
      "id": "6588053c-33ee-4604-9f7d-7d833080c138",
      "cell_type": "code",
      "source": "prediction_on_training_data = model.predict(x_train_features)\naccuracy_on_training_data = accuracy_score(y_train,prediction_on_training_data)",
      "metadata": {
        "trusted": true
      },
      "outputs": [],
      "execution_count": 46
    },
    {
      "id": "975c3835-d1a4-434d-b475-883e81fa12e8",
      "cell_type": "code",
      "source": "print(\"Acc on training Data:\" , accuracy_on_training_data)",
      "metadata": {
        "trusted": true
      },
      "outputs": [
        {
          "name": "stdout",
          "text": "Acc on training Data: 0.9670181736594121\n",
          "output_type": "stream"
        }
      ],
      "execution_count": 47
    },
    {
      "id": "a30d55a6-337f-48c3-9d6e-d90a28af72b6",
      "cell_type": "code",
      "source": "prediction_on_test_data = model.predict(x_test_features)\naccuracy_on_test_data = accuracy_score(y_test,prediction_on_test_data)",
      "metadata": {
        "trusted": true
      },
      "outputs": [],
      "execution_count": 49
    },
    {
      "id": "58597755-4ebe-4eb8-8817-acc4d4fb8dad",
      "cell_type": "code",
      "source": "print(\"Acc on Test Data:\" , accuracy_on_test_data)",
      "metadata": {
        "trusted": true
      },
      "outputs": [
        {
          "name": "stdout",
          "text": "Acc on Test Data: 0.9659192825112107\n",
          "output_type": "stream"
        }
      ],
      "execution_count": 50
    },
    {
      "id": "dc48b8ee-8824-4006-868b-38cf324f87e4",
      "cell_type": "code",
      "source": "input_your_mail = [\"Input your email right here to predict whether the email is spam or ham\"]\n\ninput_data_features = feature_extraction.transform(input_your_mail)\n\nprediction = model.predict(input_data_features)\n\nprint(prediction)\n\nif prediction[0] == 1:\n    print(\"Ham Mail\")\nelse:\n    print(\"Spam Mail\")",
      "metadata": {
        "trusted": true
      },
      "outputs": [
        {
          "name": "stdout",
          "text": "[1]\nHam Mail\n",
          "output_type": "stream"
        }
      ],
      "execution_count": 63
    },
    {
      "id": "70a2c419-2050-4d91-9e4b-27dd216a4c4d",
      "cell_type": "code",
      "source": "import matplotlib.pyplot as plt\nfrom matplotlib import style\n%matplotlib inline\n\nstyle.use('ggplot')\nplt.plot(accuracy_on_training_data, accuracy_on_test_data)\nplt.xlabel('Training Data')\nplt.ylabel('Testing Data')\nplt.title('Spam/Ham - email')\nplt.show()",
      "metadata": {
        "trusted": true
      },
      "outputs": [
        {
          "output_type": "display_data",
          "data": {
            "text/plain": "<Figure size 640x480 with 1 Axes>",
            "image/png": "[encoded data removed]"
          },
          "metadata": {}
        }
      ],
      "execution_count": 62
    },
    {
      "id": "4f32e122-60dc-46bd-b221-31f557ad9946",
      "cell_type": "code",
      "source": "",
      "metadata": {
        "trusted": true
      },
      "outputs": [],
      "execution_count": null
    }
  ]
}